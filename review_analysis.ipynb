{
 "cells": [
  {
   "cell_type": "code",
   "execution_count": null,
   "id": "dc6b6024",
   "metadata": {},
   "outputs": [],
   "source": [
    "import requests\n",
    "import pandas as pd\n",
    "from bs4 import BeautifulSoup\n",
    "import time\n",
    "import json\n",
    "import altair as alt\n",
    "import re\n",
    "from sklearn.preprocessing import MinMaxScaler\n",
    "\n",
    "game_details = pd.read_csv(\"steam_game_details.csv\")\n",
    "game_stats = pd.read_csv(\"steam_game_stats.csv\")\n",
    "game_reviews = pd.read_csv(\"steam_review_data.csv\")\n",
    "\n",
    "game_reviews = game_reviews.dropna()\n",
    "\n",
    "combined_details = game_details.merge(game_stats, on=\"app_id\")\n",
    "combined_details['owners_upper'] = combined_details['owners'].apply(\n",
    "    lambda x: int(re.search(r\"\\.\\. ([\\d,]+)\", x).group(1).replace(',', '')) if pd.notnull(x) else None\n",
    ")\n",
    "\n",
    "combined_details['total'] = combined_details['positive'] + combined_details['negative']\n",
    "\n",
    "combined_details['positive_ratio'] = combined_details['positive'] / combined_details['total']\n",
    "\n",
    "scaler = MinMaxScaler()\n",
    "\n",
    "combined_details['ranked_positive'] = combined_details['positive_ratio'].rank(pct=True)\n",
    "combined_details['ranked_owners'] = combined_details['owners_upper'].rank(pct=True)\n",
    "\n",
    "combined_details['popularity_score_ranked'] = (\n",
    "    0.3 * combined_details['ranked_positive'] +\n",
    "    0.7 * combined_details['ranked_owners']\n",
    ")\n",
    "\n",
    "combined_details['popularity_rating'] = (combined_details['popularity_score_ranked'] * 5).round(1)"
   ]
  },
  {
   "cell_type": "code",
   "execution_count": null,
   "id": "cee2f5ff",
   "metadata": {},
   "outputs": [],
   "source": [
    "agg_reviews = game_reviews.groupby(by=\"app_id\")['review_text'].apply(lambda x: ' '.join(x))"
   ]
  }
 ],
 "metadata": {
  "kernelspec": {
   "display_name": "base",
   "language": "python",
   "name": "python3"
  },
  "language_info": {
   "codemirror_mode": {
    "name": "ipython",
    "version": 3
   },
   "file_extension": ".py",
   "mimetype": "text/x-python",
   "name": "python",
   "nbconvert_exporter": "python",
   "pygments_lexer": "ipython3",
   "version": "3.12.7"
  }
 },
 "nbformat": 4,
 "nbformat_minor": 5
}
